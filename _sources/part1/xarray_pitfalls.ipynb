{
 "cells": [
  {
   "cell_type": "markdown",
   "id": "dde8b5d5-5bba-4266-8521-3e3e163bef3a",
   "metadata": {},
   "source": [
    "# Handling multi-dimensional arrays with xarray"
   ]
  },
  {
   "cell_type": "markdown",
   "id": "a0d36cd0-7cdc-4e5e-922b-a1979a1c9e7b",
   "metadata": {},
   "source": [
    "## Authors & Contributors\n",
    "\n",
    "### Authors\n",
    "\n",
    "- Pier Lorenzo Marasco, Ispra (Italy), [@pl-marasco](https://github.com/pl-marasco)\n",
    "\n",
    "### Contributors\n",
    "\n",
    "- Alejandro Coca-Castro, The Alan Turing Institute (United Kingdom), [@acocac](https://github.com/acocac)\n",
    "- Anne Fouilloux, University of Oslo (Norway), [@annefou](https://github.com/annefou)\n",
    "- Guillaume Eynard-Bontemps, CNES (France), [@guillaumeeb](https://github.com/guillaumeeb)"
   ]
  },
  {
   "cell_type": "markdown",
   "id": "ec37ef0f-da32-40c7-8320-467c46bfab6a",
   "metadata": {},
   "source": [
    "<div class=\"alert alert-info\">\n",
    "    <i class=\"fa-question-circle fa\" style=\"font-size: 22px;color:#666;\"></i> <b>Overview</b>\n",
    "    <br>\n",
    "    <br>\n",
    "    <b>Questions</b>\n",
    "    <ul>\n",
    "        <li>What is Xarray?</li>\n",
    "        <li>How to open a local file?</li>\n",
    "        <li>How to print metadata information?</li>\n",
    "        <li>How to make a selection?</li>\n",
    "        <li>How to visualize with matplotlib?</li>\n",
    "        <li>How to perform basic computations, statistics and aggregations?</li>\n",
    "        <li>How to mask data?</li>\n",
    "    </ul>\n",
    "    <b>Objectives</b>\n",
    "    <ul>\n",
    "        <li>Learn about Xarray Python ecosystem</li>\n",
    "        <li>Learn file handling with xarray</li>\n",
    "        <li>Learn to get metadata information</li>\n",
    "        <li>Learn to select and mask data</li>\n",
    "        <li>Learn to make basic computations, aggregations and statistics</li>\n",
    "        <li>Learnn to visualize data</li>\n",
    "    </ul>\n",
    "</div>"
   ]
  },
  {
   "cell_type": "markdown",
   "id": "d746c8d3-c818-4c19-bf58-1f29715d9df6",
   "metadata": {},
   "source": [
    "## Context\n",
    "\n",
    "We will be using the [Pangeo](https://pangeo.io/) open-source software stack for computing and visualizing the Vegetation Condition Index (VCI) {cite:ps}`a-kogan1995-VCI`, a well-established indicator to estimate droughts from remote sensing data.\n",
    "\n",
    "VCI compares the current normalized difference vegetation index (NDVI) {cite:ps}`a-wiki2022-ndvi` to the range of values observed in previous years.\n",
    "\n",
    "### Data\n",
    "\n",
    "In this episode, we will use Sentinel-3 NDVI Analysis Ready Data (ARD) provided by the [Copernicus Global Land Service](https://land.copernicus.eu/global/index.html).\n",
    "\n",
    "This dataset can be discovered through the [OpenEO API](https://openeo.org/) from the CGLS distributor, [VITO](https://vito.be/en/). Access is free of charge but an [EGI registration](https://aai.egi.eu/) is needed.\n",
    "\n",
    "The same dataset can also be downloaded from [Zenodo](https://zenodo.org/): [FOSS4G Training Datasets: NDVI](https://zenodo.org/record/6969999/files/C_GLS_NDVI_20220101_20220701_Lombardia_S3_2.nc)\n",
    "\n",
    "Further info about drought indices can be found in the Integrated Drought Management Programme (see [here](https://www.droughtmanagement.info/indices/))."
   ]
  },
  {
   "cell_type": "markdown",
   "id": "c341348a-77e3-47bb-aa1a-86982f930c79",
   "metadata": {},
   "source": [
    "## Setup\n",
    "\n",
    "This episode uses the following main Python packages:\n",
    "\n",
    "- xarray {cite:ps}`a-xarray-hoyer2017` with [`netCDF4`](https://pypi.org/project/h5netcdf/) and [`h5netcdf`](https://pypi.org/project/h5netcdf/) engines\n",
    "- pooch {cite:ps}`a-pooch-Uieda2020`\n",
    "- numpy {cite:ps}`a-numpy-harris2020`\n",
    "\n",
    "Please install these packages if they are not already available in your Python environment (see [Setup page](https://pangeo-data.github.io/foss4g-2022/before/setup.html)).\n",
    "\n",
    "### Packages\n",
    "\n",
    "In this episode, Python packages are imported when we start to use them. However, for best software practices, we recommend that you install and import all the necessary libraries at the top of your Jupyter notebook."
   ]
  },
  {
   "cell_type": "code",
   "execution_count": null,
   "id": "51c76db6-f5aa-40eb-97f1-2df7cde50e83",
   "metadata": {},
   "outputs": [],
   "source": [
    "import xarray as xr"
   ]
  },
  {
   "cell_type": "markdown",
   "id": "2d9c40c3-44c9-451f-b8ad-fec067c05932",
   "metadata": {},
   "source": [
    "### Fetch Data\n",
    "\n",
    "- For now we will fetch a netCDF file containing Sentinel-3 NDVI Analysis Ready Data (ARD).\n",
    "- The file is available in a Zenodo repository. We will download it using using `pooch`, a very handy Python-based library to download and cache your data files locally (see further info [here](https://www.fatiando.org/pooch/latest/index.html))\n",
    "- In the [Data access and discovery](https://pangeo-data.github.io/foss4g-2022/pangeo101/data_discovery.html) episode, we will learn about different ways to access data, including access to remote data."
   ]
  },
  {
   "cell_type": "code",
   "execution_count": null,
   "id": "08ba3f1d-71ea-42ec-904f-dc2452640590",
   "metadata": {},
   "outputs": [],
   "source": [
    "import pooch"
   ]
  },
  {
   "cell_type": "code",
   "execution_count": null,
   "id": "f247c3cd-7f19-43c8-b721-6b159f401379",
   "metadata": {
    "tags": [
     "hide-output"
    ]
   },
   "outputs": [],
   "source": [
    "cgls_file = pooch.retrieve(\n",
    "    url=\"https://zenodo.org/record/6969999/files/C_GLS_NDVI_20220101_20220701_Lombardia_S3_2.nc\",\n",
    "    known_hash=\"md5:bbb25f1865056c886c6f9b37147d8f2f\",\n",
    "    path=f\".\",\n",
    ")"
   ]
  },
  {
   "cell_type": "markdown",
   "id": "3a1db255-b521-4465-9ffd-0113c48f1fd1",
   "metadata": {},
   "source": [
    "## Open and read metadata through Xarray"
   ]
  },
  {
   "cell_type": "code",
   "execution_count": null,
   "id": "6974bdbf-f874-4b0d-bb9b-13a0161af3b0",
   "metadata": {},
   "outputs": [],
   "source": [
    "cgls_ds = xr.open_dataset(cgls_file)"
   ]
  },
  {
   "cell_type": "markdown",
   "id": "711acf54",
   "metadata": {},
   "source": [
    "As the dataset is in the NetCDF format, Xarray automatically selects the correct engine (this happens in the background because engine='netcdf' has been automatically specified). Other common options are \"h5netcdf\" or \"zarr\".\n",
    "GeoTiff data can also be read, but to access it requires rioxarray, which will be quickly covered later.\n",
    "Supposing that you have a dataset in an unrecognised format, you can always create your own reader as a subclass of the backend entry point and pass it through the engine parameter."
   ]
  },
  {
   "cell_type": "markdown",
   "id": "fac7ac28",
   "metadata": {},
   "source": [
    ":::{tip}\n",
    "If you get an error with the previous command, first check the location of the input file some_hash-C_GLS_NDVI_20220101_20220701_Lombardia_S3_2.nc: it should have been downloaded in the same directory as your Jupyter Notebook.\n",
    ":::"
   ]
  },
  {
   "cell_type": "code",
   "execution_count": null,
   "id": "098a2be0",
   "metadata": {},
   "outputs": [],
   "source": [
    "cgls_ds"
   ]
  },
  {
   "cell_type": "markdown",
   "id": "0f1c3f6a",
   "metadata": {},
   "source": [
    "## What is xarray?\n",
    "\n",
    "Xarray introduces labels in the form of dimensions, coordinates and attributes on top of raw NumPy-like multi-dimensional arrays, which allows for a more intuitive, more concise, and less error-prone developer experience.\n",
    "\n",
    "### How is xarray structured?\n",
    "\n",
    "Xarray has two core data structures, which build upon and extend the core strengths of NumPy and Pandas libraries. Both data structures are fundamentally N-dimensional:\n",
    "\n",
    "- [DataArray](https://docs.xarray.dev/en/stable/generated/xarray.DataArray.html#xarray.DataArray) is the implementation of a labeled, N-dimensional array. It is an N-D generalization of a Pandas.Series. The name DataArray itself is borrowed from [Fernando Perez’s datarray project](http://fperez.org/py4science/datarray/), which prototyped a similar data structure.\n",
    "\n",
    "- [Dataset](https://docs.xarray.dev/en/stable/generated/xarray.Dataset.html#xarray.Dataset) is a multi-dimensional, in-memory array database. It is a dict-like container of DataArray objects aligned along any number of shared dimensions, and serves a similar purpose in xarray as the pandas.DataFrame.\n"
   ]
  },
  {
   "cell_type": "markdown",
   "id": "fb97b357",
   "metadata": {},
   "source": [
    "## Accessing Coordinates and Data Variables "
   ]
  },
  {
   "cell_type": "markdown",
   "id": "628c0446",
   "metadata": {},
   "source": [
    "DataArray, within Datasets, can be accessed through:\n",
    "- the dot notation like Dataset.NameofVariable  \n",
    "- or using square brackets, like Dataset['NameofVariable'] (NameofVariable needs to be a string so use quotes or double quotes)"
   ]
  },
  {
   "cell_type": "code",
   "execution_count": null,
   "id": "4701e7a9",
   "metadata": {},
   "outputs": [],
   "source": [
    "cgls_ds.t"
   ]
  },
  {
   "cell_type": "markdown",
   "id": "55cbc2ca",
   "metadata": {},
   "source": [
    "`cgls_ds.t` is a one-dimensional `xarray.DataArray` with dates of type `datetime64[ns]`"
   ]
  },
  {
   "cell_type": "code",
   "execution_count": null,
   "id": "e9a1e3c4",
   "metadata": {},
   "outputs": [],
   "source": [
    "cgls_ds.NDVI"
   ]
  },
  {
   "cell_type": "markdown",
   "id": "ed915a07",
   "metadata": {},
   "source": [
    "`cgls_ds.NDVI` is a three-dimensional `xarray.DataArray` with NDVI values of type `uint8`"
   ]
  },
  {
   "cell_type": "code",
   "execution_count": null,
   "id": "0373cd09",
   "metadata": {},
   "outputs": [],
   "source": [
    "cgls_ds['NDVI']"
   ]
  },
  {
   "cell_type": "markdown",
   "id": "a27ebaab",
   "metadata": {},
   "source": [
    "Same can be achieved for attributes and a DataArray.attrs will return a dictionary."
   ]
  },
  {
   "cell_type": "code",
   "execution_count": null,
   "id": "fc8a6cee",
   "metadata": {},
   "outputs": [],
   "source": [
    "cgls_ds['NDVI'].attrs"
   ]
  },
  {
   "cell_type": "markdown",
   "id": "8b7ea761",
   "metadata": {},
   "source": [
    "### Xarray and Memory usage\n",
    "\n",
    "Once a Data Array|Set is opened, xarray loads into memory only the coordinates and all the metadata needed to describe it.\n",
    "The underlying data, the component written into the datastore, are loaded into memory as a NumPy array, only once directly accessed; once in there, it will be kept to avoid re-readings.\n",
    "This brings the fact that it is good practice to have a look to the size of the data before accessing it. A classical mistake is to try loading arrays bigger than the memory with the obvious result of killing a notebook Kernel or Python process.\n",
    "If the dataset does not fit in the available memory, then the only option will be to load it through the chunking; later on, in the tutorial 'chunking_introduction', we will introduce this concept.\n",
    "\n",
    "As the size of the data is not too big here, we can continue without any problem. But let's first have a look to the actual size and then how it impacts the memory once loaded into it."
   ]
  },
  {
   "cell_type": "code",
   "execution_count": null,
   "id": "7453de03",
   "metadata": {},
   "outputs": [],
   "source": [
    "import numpy as np"
   ]
  },
  {
   "cell_type": "code",
   "execution_count": null,
   "id": "0b0c7d85",
   "metadata": {},
   "outputs": [],
   "source": [
    "print(f'{np.round(cgls_ds.NDVI.nbytes / 1024**2, 2)} MB') # all the data are automatically loaded into memory as NumpyArray once they are accessed."
   ]
  },
  {
   "cell_type": "code",
   "execution_count": null,
   "id": "77ae36e2",
   "metadata": {},
   "outputs": [],
   "source": [
    "cgls_ds.NDVI.data"
   ]
  },
  {
   "cell_type": "markdown",
   "id": "2299a7a5",
   "metadata": {},
   "source": [
    "## Renaming Coordinates and Data Variables "
   ]
  },
  {
   "cell_type": "markdown",
   "id": "f67b002a",
   "metadata": {},
   "source": [
    "As other datasets have dimensions named according to the more common triad lat,lon,time a renomination is needed."
   ]
  },
  {
   "cell_type": "code",
   "execution_count": null,
   "id": "ec650690",
   "metadata": {},
   "outputs": [],
   "source": [
    "cgls_ds = cgls_ds.rename(x='lon', y='lat', t='time')"
   ]
  },
  {
   "cell_type": "code",
   "execution_count": null,
   "id": "5ca93e2e",
   "metadata": {},
   "outputs": [],
   "source": [
    "cgls_ds"
   ]
  },
  {
   "cell_type": "markdown",
   "id": "c28bcd77",
   "metadata": {},
   "source": [
    "## Selection methods\n",
    "\n",
    "As underneath DataArrays are Numpy Array objects (that implement the standard Python x[obj] (x: array, obj: int,slice) syntax). Their data can be accessed through the same approach of numpy indexing."
   ]
  },
  {
   "cell_type": "code",
   "execution_count": null,
   "id": "cc3c889d",
   "metadata": {},
   "outputs": [],
   "source": [
    "cgls_ds.NDVI[0,100,100]"
   ]
  },
  {
   "cell_type": "markdown",
   "id": "b2a17eae",
   "metadata": {},
   "source": [
    "or slicing"
   ]
  },
  {
   "cell_type": "code",
   "execution_count": null,
   "id": "aa68d9d8",
   "metadata": {},
   "outputs": [],
   "source": [
    "cgls_ds.NDVI[0:5,100:110,100:110]"
   ]
  },
  {
   "cell_type": "markdown",
   "id": "4029e12c",
   "metadata": {},
   "source": [
    "As it is not easy to remember the order of dimensions, Xarray really helps by making it possible to select the position using names:\n",
    "\n",
    "- `.isel` -> selection based on positional index\n",
    "- `.sel`  -> selection based on coordinate values"
   ]
  },
  {
   "cell_type": "markdown",
   "id": "eabe47e9",
   "metadata": {},
   "source": [
    "We first check the number of elements in each coordinate of the NDVI Data Variable using the built-in method sizes. Same result can be achieved querying each coordinate using the Python built-in function `len`."
   ]
  },
  {
   "cell_type": "code",
   "execution_count": null,
   "id": "0ff0f183",
   "metadata": {},
   "outputs": [],
   "source": [
    "cgls_ds.sizes"
   ]
  },
  {
   "cell_type": "code",
   "execution_count": null,
   "id": "be3fa61d",
   "metadata": {},
   "outputs": [],
   "source": [
    "cgls_ds.NDVI.isel(time=0, lat=100, lon=100) # same as cgls_ds.NDVI[0,100,100]"
   ]
  },
  {
   "cell_type": "markdown",
   "id": "df820084",
   "metadata": {},
   "source": [
    "The more common way to select a point is through the labeled coordinate using the `.sel` method."
   ]
  },
  {
   "cell_type": "code",
   "execution_count": null,
   "id": "c71a659b",
   "metadata": {},
   "outputs": [],
   "source": [
    "cgls_ds.NDVI.sel(time='2022-01-01')"
   ]
  },
  {
   "cell_type": "markdown",
   "id": "f152eac9",
   "metadata": {},
   "source": [
    "Time is easy to be used as there is a 1 to 1 correspondence with values in the index, float values are not that easy to be used and a small discrepancy can make a big difference in terms of results."
   ]
  },
  {
   "cell_type": "markdown",
   "id": "e3884097",
   "metadata": {},
   "source": [
    "\n",
    "Coordinates are always affected by precision issues; the best option to quickly get a point over the coordinates is to set the sampling method (method='') that will search for the closest point according to the specified one.\n",
    "\n",
    "Options for the method are:\n",
    "- pad / **f**fill: propagate last valid index value forward\n",
    "- backfill / **b**fill: propagate next valid index value backward\n",
    "- nearest: use nearest valid index value\n",
    "\n",
    "Another important parameter that can be set is the tolerance that specifies the distance between the requested and the target (so that abs(index\\[indexer] - target) <= tolerance) from [documentation](https://xarray.pydata.org/en/v0.17.0/generated/xarray.DataArray.sel.html#:~:text=xarray.DataArray.sel%20%C2%B6%20DataArray.sel%28indexers%3DNone%2C%20method%3DNone%2C%20tolerance%3DNone%2C%20drop%3DFalse%2C%20%2A%2Aindexers_kwargs%29%20%C2%B6,this%20method%20should%20use%20labels%20instead%20of%20integers.)."
   ]
  },
  {
   "cell_type": "code",
   "execution_count": null,
   "id": "de3b813c",
   "metadata": {},
   "outputs": [],
   "source": [
    "cgls_ds.sel(lat=46.3, lon=8.8, method='nearest')"
   ]
  },
  {
   "cell_type": "markdown",
   "id": "69292a19",
   "metadata": {},
   "source": [
    ":::{warning}\n",
    "To select a single real value without specifying a method, you would need to specify the exact encoded value; not the one you see when printed.\n",
    ":::"
   ]
  },
  {
   "cell_type": "code",
   "execution_count": null,
   "id": "90e5ebea",
   "metadata": {},
   "outputs": [],
   "source": [
    "cgls_ds.isel(lon=100).lon.values.item()"
   ]
  },
  {
   "cell_type": "code",
   "execution_count": null,
   "id": "5b91cce4",
   "metadata": {},
   "outputs": [],
   "source": [
    "cgls_ds.isel(lat=100).lat.values.item()"
   ]
  },
  {
   "cell_type": "code",
   "execution_count": null,
   "id": "586339f1",
   "metadata": {},
   "outputs": [],
   "source": [
    "cgls_ds.sel(lat=46.336112857142965, lon=8.799356142858498)"
   ]
  },
  {
   "cell_type": "markdown",
   "id": "98c41084",
   "metadata": {},
   "source": [
    "That is why we use a `method`! It makes your life easier to deal with inexact matches."
   ]
  },
  {
   "cell_type": "markdown",
   "id": "1ded4da9",
   "metadata": {},
   "source": [
    "As the exercise is focused on an Area Of Interest, this can be obtained through a bounding box defined with slices."
   ]
  },
  {
   "cell_type": "code",
   "execution_count": null,
   "id": "90629284",
   "metadata": {},
   "outputs": [],
   "source": [
    "NDVI_AOI = cgls_ds.NDVI.sel(lat=slice(46.5,44.5), lon=slice(8.5,11.5))\n",
    "NDVI_AOI"
   ]
  },
  {
   "cell_type": "markdown",
   "id": "067dc4cf",
   "metadata": {},
   "source": [
    ":::{tip}\n",
    "Have you noticed that latitudes are selected from the largest to the smallest values e.g. `46.5`, `44.5` while longitudes are selected from the smallest to the largest value e.g. `8.5`,`11.5`?\n",
    "**The reason is that you need to use the same order as the corresponding DataArray**.\n",
    ":::"
   ]
  },
  {
   "cell_type": "markdown",
   "id": "1ff8090c",
   "metadata": {},
   "source": [
    "## Plotting\n",
    "   Plotting data can easily be obtained through matplotlib.pyplot back-end [matplotlib documentation](https://matplotlib.org/stable/index.html)."
   ]
  },
  {
   "cell_type": "code",
   "execution_count": null,
   "id": "a262ec7b",
   "metadata": {},
   "outputs": [],
   "source": [
    "NDVI_AOI.isel(time=0).plot(cmap=\"RdYlGn\")"
   ]
  },
  {
   "cell_type": "markdown",
   "id": "a1d63f43",
   "metadata": {},
   "source": [
    "In the next episode, we will learn more about advanced visualization tools and how to make interactive plots using [holoviews](https://holoviews.org/), a tool part of the [HoloViz](https://holoviz.org/) ecosystem."
   ]
  },
  {
   "cell_type": "markdown",
   "id": "144e3997",
   "metadata": {},
   "source": [
    "## Basic maths\n",
    "\n",
    "NDVI values are a little odd in comparison to standard NDVI range values \\[-1, +1]. This confirms the max values reported in the [Product User Manual](https://land.copernicus.eu/global/sites/cgls.vito.be/files/products/CGLOPS1_PUM_NDVI300m-V2_I1.20.pdf) (PUM)."
   ]
  },
  {
   "cell_type": "markdown",
   "id": "df091875",
   "metadata": {},
   "source": [
    "## NDVI characteristics from the Product User Manual (PUM)\n",
    "\n",
    "| layer name  | description                             | physical min | physical max | digital max | scaling | offset | No Data  |\n",
    "|-------------|-----------------------------------------|--------------|--------------|-------------|---------|--------|----------|\n",
    "| ndvi        | normalized difference vegetation index  | -0.08        | 0.92         | 250         | 1/250   | -0.08  | 254, 255 |\n",
    "| ndvi_unc    | uncertainty on ndvi                     | 0            | 1            | 1000        | 1/1000  | 0      | 65535    |\n",
    "| nobs        | number of observations                  | 0\t           | 32           | 32          | 1       | 0      | 255      |\n",
    "| qflag       | bitwise quality flag                    | -            | -            | 254         | 1       | 0      | 255      |\n",
    "\n",
    "\n",
    "from: [Copernicus Global Land Service NDVI 300 V2.0.1](https://land.copernicus.eu/global/sites/cgls.vito.be/files/products/CGLOPS1_PUM_NDVI300m-V2_I1.20.pdf)"
   ]
  },
  {
   "cell_type": "markdown",
   "id": "6abf28d0",
   "metadata": {},
   "source": [
    "Simple arithmetic operations can be performed without worrying about dimensions and coordinates, using the same notation we use with `numpy`. Underneath xarray will automatically vectorize the operations over all the data dimensions."
   ]
  },
  {
   "cell_type": "code",
   "execution_count": null,
   "id": "d1d77fd5",
   "metadata": {},
   "outputs": [],
   "source": [
    "NDVI_AOI * (1/250) - 0.08"
   ]
  },
  {
   "cell_type": "markdown",
   "id": "54f692ca",
   "metadata": {},
   "source": [
    "The universal function (ufunc) from numpy and scipy can be applied too directly to the data."
   ]
  },
  {
   "cell_type": "code",
   "execution_count": null,
   "id": "dffbbf28",
   "metadata": {},
   "outputs": [],
   "source": [
    "np.subtract(np.multiply(NDVI_AOI, 0.004), 0.08)"
   ]
  },
  {
   "cell_type": "code",
   "execution_count": null,
   "id": "e9604673",
   "metadata": {},
   "outputs": [],
   "source": [
    "NDVI_AOI = NDVI_AOI * (1/250) - 0.08"
   ]
  },
  {
   "cell_type": "code",
   "execution_count": null,
   "id": "8e1f844c",
   "metadata": {},
   "outputs": [],
   "source": [
    "NDVI_AOI"
   ]
  },
  {
   "cell_type": "markdown",
   "id": "3c9a350f",
   "metadata": {},
   "source": [
    "## Statistics\n",
    "\n",
    "All the standard statistical operations can be used such as `min`, `max`, `mean`. When no argument is passed to the function, the operation is done over all the dimension of the variable (same as with `numpy`)."
   ]
  },
  {
   "cell_type": "code",
   "execution_count": null,
   "id": "d235169d",
   "metadata": {},
   "outputs": [],
   "source": [
    "NDVI_AOI.min()"
   ]
  },
  {
   "cell_type": "markdown",
   "id": "19379f3b",
   "metadata": {},
   "source": [
    "You can make a statistical operation over a dimension. For instance, let's retrieve the maximum value for each available time."
   ]
  },
  {
   "cell_type": "code",
   "execution_count": null,
   "id": "53283302",
   "metadata": {},
   "outputs": [],
   "source": [
    "NDVI_AOI.max(dim='time')"
   ]
  },
  {
   "cell_type": "markdown",
   "id": "00a0ec25",
   "metadata": {},
   "source": [
    "## Aggregation\n",
    "We have data every 10 days. To obtain monthly values, we can group values per month and compute the mean."
   ]
  },
  {
   "cell_type": "code",
   "execution_count": null,
   "id": "1afbe549",
   "metadata": {},
   "outputs": [],
   "source": [
    "NDVI_monthly = NDVI_AOI.groupby(NDVI_AOI.time.dt.month).mean()"
   ]
  },
  {
   "cell_type": "code",
   "execution_count": null,
   "id": "0047f659",
   "metadata": {},
   "outputs": [],
   "source": [
    "NDVI_monthly"
   ]
  },
  {
   "cell_type": "markdown",
   "id": "8a18d11a",
   "metadata": {},
   "source": [
    "As we have data from January to July, the time dimension is now `month` and takes values from `1` to `7`."
   ]
  },
  {
   "cell_type": "code",
   "execution_count": null,
   "id": "0c4f652a",
   "metadata": {},
   "outputs": [],
   "source": [
    "NDVI_monthly.month"
   ]
  },
  {
   "cell_type": "markdown",
   "id": "935b9333",
   "metadata": {},
   "source": [
    "## Mask\n",
    "\n",
    "Not all values are valid and masking all those which are not in the valid range \\[-0.08, 0.92] is necessary. Masking can be achieved through the method `DataSet|Array.where(cond, other)` or `xr.where(cond, x, y)`.\n",
    "\n",
    "The difference consists in the possibility to specify the value in case the condition is positive or not; `DataSet|Array.where(cond, other)` only offer the possibility to define the false condition value (by default is set to np.NaN))"
   ]
  },
  {
   "cell_type": "code",
   "execution_count": null,
   "id": "af2544b2",
   "metadata": {},
   "outputs": [],
   "source": [
    "NDVI_masked = NDVI_AOI.where((NDVI_AOI >= -0.08) & (NDVI_AOI <= 0.92))"
   ]
  },
  {
   "cell_type": "code",
   "execution_count": null,
   "id": "74287eb4",
   "metadata": {},
   "outputs": [],
   "source": [
    "NDVI_masked.isel(time=0).plot()"
   ]
  },
  {
   "cell_type": "markdown",
   "id": "7744b4e6",
   "metadata": {},
   "source": [
    "To better visualize the mask, with the help of `xr.where`, ad-hoc variable can be created. 'xr.where' let us specify value 1 for masked and 0 for the unmasked data."
   ]
  },
  {
   "cell_type": "code",
   "execution_count": null,
   "id": "d8235875",
   "metadata": {},
   "outputs": [],
   "source": [
    "mask = xr.where((NDVI_AOI <= -0.08) | (NDVI_AOI >= 0.92), 1, 0)"
   ]
  },
  {
   "cell_type": "code",
   "execution_count": null,
   "id": "0ce5b391-7282-41a7-a2ba-cccaf5c292ac",
   "metadata": {},
   "outputs": [],
   "source": [
    "mask = xr.where((NDVI_AOI <= -0.08) | (NDVI_AOI >= 0.92), 1, 0)"
   ]
  },
  {
   "cell_type": "code",
   "execution_count": null,
   "id": "2fc7291e-5c3b-4860-aea0-7a4714889bc7",
   "metadata": {},
   "outputs": [],
   "source": [
    "mask.isel(time=0).plot()"
   ]
  },
  {
   "cell_type": "markdown",
   "id": "27c60e8d-9695-48dc-b3a1-95a8c33435c0",
   "metadata": {},
   "source": [
    "Plot a single point (defined by its latitude and longitude) over the time dimension."
   ]
  },
  {
   "cell_type": "code",
   "execution_count": null,
   "id": "24b735b1-6503-4afa-b210-c6fa1a7249d5",
   "metadata": {},
   "outputs": [],
   "source": [
    "NDVI_masked.sel(lat=45.88, lon=8.63, method='nearest').plot()"
   ]
  },
  {
   "cell_type": "markdown",
   "id": "b34d4ed5-2b85-4548-aed8-0976a3b8f473",
   "metadata": {},
   "source": [
    "## Save xarray Dataset\n",
    "\n",
    "It is very often convenient to save intermediate or final results into a local file. We will learn more about the different file formats Xarray can handle, but for now let's save it as a netCDF file. Check the file size after saving the result into netCDF."
   ]
  },
  {
   "cell_type": "code",
   "execution_count": null,
   "id": "7f1d1630",
   "metadata": {
    "collapsed": false,
    "jupyter": {
     "outputs_hidden": false
    }
   },
   "outputs": [],
   "source": [
    "NDVI_masked.to_netcdf('C_GLS_NDVI_20220101_20220701_Lombardia_S3_2_masked.nc')"
   ]
  },
  {
   "cell_type": "markdown",
   "id": "57ad2af8",
   "metadata": {},
   "source": [
    "## Advance Saving methods\n",
    "### Encoding and Compression\n",
    "\n",
    "From the NDVI dataset we already know that values can be encoded and can be conceptualized as pure Digital Numbers (DN). To revert those values to physical values (PhyVal) the formula PhyVal = DN * scale_factor + add_offset has to be used. To achieve the same result and transform our PhyVal back to DN 4 different parameters has to be defined :\n",
    "\n",
    "   - dtype       : datatype specification, in a numpy version (np.int16, np.float32) or a string one that can be converted to it. Here we use 'np.uint8' as values will range only up to 255.\n",
    "   - _FillValues : a values that substitute the NaNs one. Some cast doesn't allow the conversion of Nans as there is no physical representation for that value (like from Float to Int), so an alternative value withing the acceptable values needs to be specified.\n",
    "   - scale_factor & add_offset : values can be converted through a scaling and off_set parameters according to the formula decoded = scale_factor * encoded + add_offset\n",
    "\n",
    "  A compression method can be defined as well; if the format is netCDF4 with the engine set to 'netcdf4' or 'h5netcdf' there are different compression options.  The easiest solution is to stick with the default one for NetCDF4 files.\n",
    "\n",
    "  Note that encoding parameters needs to be done through a nested dictionary and parameters has to be defined for each single variable."
   ]
  },
  {
   "cell_type": "code",
   "execution_count": null,
   "id": "bb83939f",
   "metadata": {
    "collapsed": false,
    "jupyter": {
     "outputs_hidden": false
    }
   },
   "outputs": [],
   "source": [
    "NDVI_masked.to_netcdf('C_GLS_NDVI_20220101_20220701_Lombardia_S3_2_mcs.nc',\n",
    "                      engine='netcdf4',\n",
    "                      encoding={'NDVI':{\"dtype\": np.uint8,\n",
    "                                        '_FillValue': 255,\n",
    "                                        'scale_factor':0.004,\n",
    "                                        'add_offset':-0.08,\n",
    "                                        'zlib': True, 'complevel':4}\n",
    "                                }\n",
    "                      )"
   ]
  },
  {
   "cell_type": "markdown",
   "id": "be248f7e",
   "metadata": {},
   "source": [
    "<div class=\\\"alert alert-success\\\">\n",
    "<i class=\\\"fa-check-circle fa\\\" style=\\\"font-size: 22px;color:#666;\\\"></i> <b>Key Points</b>\n",
    "<br>\n",
    "<ul>\n",
    "   <li>Xarray Dataset and DataArray</li>\n",
    "   <li>Read and get metadata from local raster file</li>\n",
    "   <li>Dataset and DataArray selection</li>\n",
    "   <li>Aggregation and statistics</li>\n",
    "   <li>Masking values</li>\n",
    "   </ul>\n",
    "</div>"
   ]
  },
  {
   "cell_type": "markdown",
   "id": "44c44075",
   "metadata": {},
   "source": [
    "Through the datatype and the compression a compression of almost 10 time has been achieved; as drawback speed reading has been decreased."
   ]
  },
  {
   "cell_type": "markdown",
   "id": "8a045187",
   "metadata": {},
   "source": [
    "## References\n",
    "\n",
    "```{bibliography}\n",
    ":style: alpha\n",
    ":filter: topic % \"xarray\" and not topic % \"package\"\n",
    ":keyprefix: a-\n",
    "```"
   ]
  },
  {
   "cell_type": "markdown",
   "id": "8c9ad204",
   "metadata": {},
   "source": [
    "## Packages citation\n",
    "\n",
    "```{bibliography}\n",
    ":style: alpha\n",
    ":filter: topic % \"xarray\" and topic % \"package\"\n",
    ":keyprefix: a-\n",
    "```"
   ]
  }
 ],
 "metadata": {
  "kernelspec": {
   "display_name": "Python 3",
   "language": "python",
   "name": "python3"
  },
  "language_info": {
   "codemirror_mode": {
    "name": "ipython",
    "version": 3
   },
   "file_extension": ".py",
   "mimetype": "text/x-python",
   "name": "python",
   "nbconvert_exporter": "python",
   "pygments_lexer": "ipython3",
   "version": "3.8.8"
  }
 },
 "nbformat": 4,
 "nbformat_minor": 5
}
