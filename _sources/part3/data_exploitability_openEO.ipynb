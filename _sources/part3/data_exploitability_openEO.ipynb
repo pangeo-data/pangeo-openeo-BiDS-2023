{
 "cells": [
  {
   "cell_type": "markdown",
   "metadata": {
    "collapsed": false,
    "jupyter": {
     "outputs_hidden": false
    }
   },
   "source": [
    "# How to exploit data with openEO\n",
    "\n",
    "[Eurac Research](https://www.eurac.edu/it) is working on the [Massive Open Online Course (MOOC) \"Cubes and Clouds\"](https://eo-college.org/courses/cubes-and-clouds/), which teaches the concepts of data cubes, cloud platforms, and open science in the context of earth observation. The course exercises use mainly openEO to access, interact and process Earth Observation (EO) data.\n",
    "\n",
    "During this workshop, we will present an exercise developed for the course, which aims to build a complete EO workflow using cloud provided data and openEO.\n",
    "\n",
    "![](https://eo-college.org/wp-content/uploads/2023/03/snippet-624x351.jpg)\n",
    "\n",
    "## Snow and Cloud Cover Example\n",
    "\n",
    "The notebook is hosted in the cubes and clouds GitHub repository.\n",
    "\n",
    "The snow and cloud cover example is available in different versions:\n",
    "\n",
    "1. Using openEO Platform here: https://github.com/EO-College/cubes-and-clouds/blob/main/lectures/3.1_data_processing/3.1_exercises/_alternatives/31_data_processing_openEO_Platform.ipynb\n",
    "2. Using the opneEO Client Side Processing here (It may require to install some additional libraries): https://github.com/EO-College/cubes-and-clouds/blob/main/lectures/3.1_data_processing/3.1_exercises/_alternatives/31_data_processing_stac.ipynb\n",
    "\n",
    "The second example runs the openEO workflow on the client resources, in the same way as a Pangeo based Python code would do. The openEO processes are implemented using Dask and xArray and are available in this repository: https://github.com/Open-EO/openeo-processes-dask"
   ]
  },
  {
   "cell_type": "markdown",
   "metadata": {},
   "source": [
    "We can copy the notebooks here using the next cells:"
   ]
  },
  {
   "cell_type": "code",
   "execution_count": null,
   "metadata": {},
   "outputs": [],
   "source": [
    "!curl --output 31_data_processing_openEO_Platform.ipynb --url \"https://raw.githubusercontent.com/EO-College/cubes-and-clouds/main/lectures/3.1_data_processing/3.1_exercises/_alternatives/31_data_processing_openEO_Platform.ipynb\""
   ]
  },
  {
   "cell_type": "code",
   "execution_count": null,
   "metadata": {},
   "outputs": [],
   "source": [
    "!curl --output 31_data_processing_stac.ipynb --url \"https://raw.githubusercontent.com/EO-College/cubes-and-clouds/main/lectures/3.1_data_processing/3.1_exercises/_alternatives/31_data_processing_stac.ipynb\""
   ]
  }
 ],
 "metadata": {
  "kernelspec": {
   "display_name": "Python 3 (ipykernel)",
   "language": "python",
   "name": "python3"
  },
  "language_info": {
   "codemirror_mode": {
    "name": "ipython",
    "version": 3
   },
   "file_extension": ".py",
   "mimetype": "text/x-python",
   "name": "python",
   "nbconvert_exporter": "python",
   "pygments_lexer": "ipython3",
   "version": "3.10.12"
  }
 },
 "nbformat": 4,
 "nbformat_minor": 4
}
