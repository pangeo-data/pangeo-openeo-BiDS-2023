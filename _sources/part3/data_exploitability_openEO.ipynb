{
 "cells": [
  {
   "cell_type": "markdown",
   "metadata": {
    "collapsed": false,
    "jupyter": {
     "outputs_hidden": false
    }
   },
   "source": [
    "# How to exploit data with openEO\n",
    "\n",
    "[Eurac Research](https://www.eurac.edu/it) is working on the [Massive Open Online Course (MOOC) \"Cubes and Clouds\"](https://eo-college.org/courses/cubes-and-clouds/), which teaches the concepts of data cubes, cloud platforms, and open science in the context of earth observation. The course exercises use mainly openEO to access, interact and process Earth Observation (EO) data.\n",
    "\n",
    "During this workshop, we will present an exercise developed for the course, which aims to build a complete EO workflow using cloud provided data and openEO.\n",
    "\n",
    "![](https://eo-college.org/wp-content/uploads/2023/03/snippet-624x351.jpg)\n",
    "\n",
    "## Snow and Cloud Cover Example\n",
    "\n",
    "The notebook is hosted in the cubes and clouds GitHub repository. It may require to install some additional libraries:\n",
    "\n",
    "https://github.com/EO-College/cubes-and-clouds/blob/main/lectures/3.1_data_processing/exercises/_alternatives/31_data_processing_stac.ipynb"
   ]
  }
 ],
 "metadata": {
  "kernelspec": {
   "display_name": "Python 3 (ipykernel)",
   "language": "python",
   "name": "python3"
  },
  "language_info": {
   "codemirror_mode": {
    "name": "ipython",
    "version": 3
   },
   "file_extension": ".py",
   "mimetype": "text/x-python",
   "name": "python",
   "nbconvert_exporter": "python",
   "pygments_lexer": "ipython3",
   "version": "3.10.12"
  }
 },
 "nbformat": 4,
 "nbformat_minor": 4
}
