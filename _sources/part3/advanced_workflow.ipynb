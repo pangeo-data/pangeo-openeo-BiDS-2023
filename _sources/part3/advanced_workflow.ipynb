{
 "cells": [
  {
   "cell_type": "markdown",
   "metadata": {
    "collapsed": false
   },
   "source": [
    "# OpenEO - Advanced Workflows"
   ]
  },
  {
   "cell_type": "markdown",
   "metadata": {},
   "source": [
    "\n",
    "\n",
    "The openEO user defined functions (UDF's), provide a way to run Pangeo code as part of a larger openEO workflow.\n",
    "This allows you to get the best of both worlds.\n",
    "\n",
    "# Case 1 UDF with machine learning\n",
    "\n",
    "Applying deep learning models is one of the most common reason to use UDF's.\n",
    "\n",
    "https://github.com/openEOPlatform/parcel-delineation/blob/main/Parcel%20delineation.ipynb\n",
    "\n",
    "# Sampling EO data\n",
    "\n",
    "When calibrating a model, you often want to work on sample datasets that is representative for the full dataset, without actually having to download petabytes of data.\n",
    "\n",
    "Therefore, many users sample EO datasets at various point or polygon locations, which then generates a local archive of netCDF files that can be used\n",
    "to calibrate a model.\n",
    "\n",
    "The local openEO processing support allows to start from samples that are pretty much 'raw' data, so that you also have the ability to change your preprocessing pipeline.\n",
    "\n",
    "https://open-eo.github.io/openeo-python-client/cookbook/sampling.html\n"
   ]
  }
 ],
 "metadata": {
  "kernelspec": {
   "display_name": "Python 3",
   "language": "python",
   "name": "python3"
  },
  "language_info": {
   "codemirror_mode": {
    "name": "ipython",
    "version": 2
   },
   "file_extension": ".py",
   "mimetype": "text/x-python",
   "name": "python",
   "nbconvert_exporter": "python",
   "pygments_lexer": "ipython2",
   "version": "2.7.6"
  }
 },
 "nbformat": 4,
 "nbformat_minor": 0
}
